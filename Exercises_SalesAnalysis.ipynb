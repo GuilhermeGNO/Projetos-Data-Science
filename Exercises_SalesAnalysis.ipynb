{
  "nbformat": 4,
  "nbformat_minor": 0,
  "metadata": {
    "kernelspec": {
      "display_name": "Python 3",
      "language": "python",
      "name": "python3"
    },
    "language_info": {
      "codemirror_mode": {
        "name": "ipython",
        "version": 3
      },
      "file_extension": ".py",
      "mimetype": "text/x-python",
      "name": "python",
      "nbconvert_exporter": "python",
      "pygments_lexer": "ipython3",
      "version": "3.7.4"
    },
    "colab": {
      "name": "Exercises_SalesAnalysis.ipynb",
      "provenance": [],
      "include_colab_link": true
    }
  },
  "cells": [
    {
      "cell_type": "markdown",
      "metadata": {
        "id": "view-in-github",
        "colab_type": "text"
      },
      "source": [
        "<a href=\"https://colab.research.google.com/github/GuilhermeGNO/Projetos-Data-Science/blob/main/Exercises_SalesAnalysis.ipynb\" target=\"_parent\"><img src=\"https://colab.research.google.com/assets/colab-badge.svg\" alt=\"Open In Colab\"/></a>"
      ]
    },
    {
      "cell_type": "markdown",
      "metadata": {
        "id": "cNJBrMaKIoe-"
      },
      "source": [
        "# Sales Analysis"
      ]
    },
    {
      "cell_type": "code",
      "metadata": {
        "id": "uTYRyrMtIofL"
      },
      "source": [
        ""
      ],
      "execution_count": null,
      "outputs": []
    },
    {
      "cell_type": "markdown",
      "metadata": {
        "id": "Kbow408NIofN"
      },
      "source": [
        "## Data Exploration!"
      ]
    },
    {
      "cell_type": "markdown",
      "metadata": {
        "id": "LJ41hSsuIofN"
      },
      "source": [
        "#### Question 1: What was the best month for sales? How much was earned that month? "
      ]
    },
    {
      "cell_type": "code",
      "metadata": {
        "id": "gLPlbkzNIofO"
      },
      "source": [
        ""
      ],
      "execution_count": null,
      "outputs": []
    },
    {
      "cell_type": "markdown",
      "metadata": {
        "id": "BK-UqGCIIofP"
      },
      "source": [
        "#### Question 2: What city sold the most product?"
      ]
    },
    {
      "cell_type": "code",
      "metadata": {
        "id": "Lioc-tSJIofP"
      },
      "source": [
        ""
      ],
      "execution_count": null,
      "outputs": []
    },
    {
      "cell_type": "markdown",
      "metadata": {
        "id": "sBeCNj7qIofQ"
      },
      "source": [
        "#### Question 3: What time should we display advertisements to maximize likelihood of customer's buying product?"
      ]
    },
    {
      "cell_type": "code",
      "metadata": {
        "id": "Pho0MBAUIofQ"
      },
      "source": [
        ""
      ],
      "execution_count": null,
      "outputs": []
    },
    {
      "cell_type": "markdown",
      "metadata": {
        "id": "dc231pMwIofR"
      },
      "source": [
        "#### Question 4: What products are most often sold together?"
      ]
    },
    {
      "cell_type": "code",
      "metadata": {
        "id": "5lwNHH9pIofR"
      },
      "source": [
        ""
      ],
      "execution_count": null,
      "outputs": []
    },
    {
      "cell_type": "markdown",
      "metadata": {
        "id": "umfH9sqUIofS"
      },
      "source": [
        "#### What product sold the most? Why do you think it sold the most?"
      ]
    },
    {
      "cell_type": "code",
      "metadata": {
        "id": "bwCDC7gwIofS"
      },
      "source": [
        ""
      ],
      "execution_count": null,
      "outputs": []
    }
  ]
}