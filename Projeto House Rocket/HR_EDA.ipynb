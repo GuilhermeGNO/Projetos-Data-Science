{
 "cells": [
  {
   "cell_type": "markdown",
   "metadata": {
    "ExecuteTime": {
     "end_time": "2022-04-04T00:22:56.387090Z",
     "start_time": "2022-04-04T00:22:56.383327Z"
    }
   },
   "source": [
    "# 1 - Importacão das bibliotecas"
   ]
  },
  {
   "cell_type": "code",
   "execution_count": 82,
   "metadata": {
    "ExecuteTime": {
     "end_time": "2022-04-07T12:47:00.892763Z",
     "start_time": "2022-04-07T12:47:00.886045Z"
    }
   },
   "outputs": [],
   "source": [
    "import pandas as pd\n",
    "import numpy as np\n",
    "pd.set_option('display.float_format', lambda x: '%.2f' % x)\n",
    "import matplotlib\n",
    "from matplotlib import pyplot as plt\n",
    "import seaborn as sns\n",
    "import plotly.express as px\n",
    "#import warnings\n",
    "#warning.simplefilter(action= 'ignore', category = FutureWarning)"
   ]
  },
  {
   "cell_type": "markdown",
   "metadata": {
    "ExecuteTime": {
     "end_time": "2022-04-04T12:51:36.946063Z",
     "start_time": "2022-04-04T12:51:36.941813Z"
    }
   },
   "source": [
    "# Entendimento dos dados"
   ]
  },
  {
   "cell_type": "markdown",
   "metadata": {
    "ExecuteTime": {
     "end_time": "2022-04-04T00:23:25.437253Z",
     "start_time": "2022-04-04T00:23:25.431619Z"
    }
   },
   "source": [
    "## Load the dataset"
   ]
  },
  {
   "cell_type": "code",
   "execution_count": 2,
   "metadata": {
    "ExecuteTime": {
     "end_time": "2022-04-07T11:33:08.084082Z",
     "start_time": "2022-04-07T11:33:07.927777Z"
    }
   },
   "outputs": [
    {
     "data": {
      "text/html": [
       "<div>\n",
       "<style scoped>\n",
       "    .dataframe tbody tr th:only-of-type {\n",
       "        vertical-align: middle;\n",
       "    }\n",
       "\n",
       "    .dataframe tbody tr th {\n",
       "        vertical-align: top;\n",
       "    }\n",
       "\n",
       "    .dataframe thead th {\n",
       "        text-align: right;\n",
       "    }\n",
       "</style>\n",
       "<table border=\"1\" class=\"dataframe\">\n",
       "  <thead>\n",
       "    <tr style=\"text-align: right;\">\n",
       "      <th></th>\n",
       "      <th>id</th>\n",
       "      <th>date</th>\n",
       "      <th>price</th>\n",
       "      <th>bedrooms</th>\n",
       "      <th>bathrooms</th>\n",
       "      <th>sqft_living</th>\n",
       "      <th>sqft_lot</th>\n",
       "      <th>floors</th>\n",
       "      <th>waterfront</th>\n",
       "      <th>view</th>\n",
       "      <th>...</th>\n",
       "      <th>grade</th>\n",
       "      <th>sqft_above</th>\n",
       "      <th>sqft_basement</th>\n",
       "      <th>yr_built</th>\n",
       "      <th>yr_renovated</th>\n",
       "      <th>zipcode</th>\n",
       "      <th>lat</th>\n",
       "      <th>long</th>\n",
       "      <th>sqft_living15</th>\n",
       "      <th>sqft_lot15</th>\n",
       "    </tr>\n",
       "  </thead>\n",
       "  <tbody>\n",
       "    <tr>\n",
       "      <th>0</th>\n",
       "      <td>7129300520</td>\n",
       "      <td>2014-10-13</td>\n",
       "      <td>221900.00</td>\n",
       "      <td>3</td>\n",
       "      <td>1.00</td>\n",
       "      <td>1180</td>\n",
       "      <td>5650</td>\n",
       "      <td>1.00</td>\n",
       "      <td>0</td>\n",
       "      <td>0</td>\n",
       "      <td>...</td>\n",
       "      <td>7</td>\n",
       "      <td>1180</td>\n",
       "      <td>0</td>\n",
       "      <td>1955</td>\n",
       "      <td>0</td>\n",
       "      <td>98178</td>\n",
       "      <td>47.51</td>\n",
       "      <td>-122.26</td>\n",
       "      <td>1340</td>\n",
       "      <td>5650</td>\n",
       "    </tr>\n",
       "    <tr>\n",
       "      <th>1</th>\n",
       "      <td>6414100192</td>\n",
       "      <td>2014-12-09</td>\n",
       "      <td>538000.00</td>\n",
       "      <td>3</td>\n",
       "      <td>2.25</td>\n",
       "      <td>2570</td>\n",
       "      <td>7242</td>\n",
       "      <td>2.00</td>\n",
       "      <td>0</td>\n",
       "      <td>0</td>\n",
       "      <td>...</td>\n",
       "      <td>7</td>\n",
       "      <td>2170</td>\n",
       "      <td>400</td>\n",
       "      <td>1951</td>\n",
       "      <td>1991</td>\n",
       "      <td>98125</td>\n",
       "      <td>47.72</td>\n",
       "      <td>-122.32</td>\n",
       "      <td>1690</td>\n",
       "      <td>7639</td>\n",
       "    </tr>\n",
       "    <tr>\n",
       "      <th>2</th>\n",
       "      <td>5631500400</td>\n",
       "      <td>2015-02-25</td>\n",
       "      <td>180000.00</td>\n",
       "      <td>2</td>\n",
       "      <td>1.00</td>\n",
       "      <td>770</td>\n",
       "      <td>10000</td>\n",
       "      <td>1.00</td>\n",
       "      <td>0</td>\n",
       "      <td>0</td>\n",
       "      <td>...</td>\n",
       "      <td>6</td>\n",
       "      <td>770</td>\n",
       "      <td>0</td>\n",
       "      <td>1933</td>\n",
       "      <td>0</td>\n",
       "      <td>98028</td>\n",
       "      <td>47.74</td>\n",
       "      <td>-122.23</td>\n",
       "      <td>2720</td>\n",
       "      <td>8062</td>\n",
       "    </tr>\n",
       "    <tr>\n",
       "      <th>3</th>\n",
       "      <td>2487200875</td>\n",
       "      <td>2014-12-09</td>\n",
       "      <td>604000.00</td>\n",
       "      <td>4</td>\n",
       "      <td>3.00</td>\n",
       "      <td>1960</td>\n",
       "      <td>5000</td>\n",
       "      <td>1.00</td>\n",
       "      <td>0</td>\n",
       "      <td>0</td>\n",
       "      <td>...</td>\n",
       "      <td>7</td>\n",
       "      <td>1050</td>\n",
       "      <td>910</td>\n",
       "      <td>1965</td>\n",
       "      <td>0</td>\n",
       "      <td>98136</td>\n",
       "      <td>47.52</td>\n",
       "      <td>-122.39</td>\n",
       "      <td>1360</td>\n",
       "      <td>5000</td>\n",
       "    </tr>\n",
       "    <tr>\n",
       "      <th>4</th>\n",
       "      <td>1954400510</td>\n",
       "      <td>2015-02-18</td>\n",
       "      <td>510000.00</td>\n",
       "      <td>3</td>\n",
       "      <td>2.00</td>\n",
       "      <td>1680</td>\n",
       "      <td>8080</td>\n",
       "      <td>1.00</td>\n",
       "      <td>0</td>\n",
       "      <td>0</td>\n",
       "      <td>...</td>\n",
       "      <td>8</td>\n",
       "      <td>1680</td>\n",
       "      <td>0</td>\n",
       "      <td>1987</td>\n",
       "      <td>0</td>\n",
       "      <td>98074</td>\n",
       "      <td>47.62</td>\n",
       "      <td>-122.05</td>\n",
       "      <td>1800</td>\n",
       "      <td>7503</td>\n",
       "    </tr>\n",
       "  </tbody>\n",
       "</table>\n",
       "<p>5 rows × 21 columns</p>\n",
       "</div>"
      ],
      "text/plain": [
       "           id       date     price  bedrooms  bathrooms  sqft_living  \\\n",
       "0  7129300520 2014-10-13 221900.00         3       1.00         1180   \n",
       "1  6414100192 2014-12-09 538000.00         3       2.25         2570   \n",
       "2  5631500400 2015-02-25 180000.00         2       1.00          770   \n",
       "3  2487200875 2014-12-09 604000.00         4       3.00         1960   \n",
       "4  1954400510 2015-02-18 510000.00         3       2.00         1680   \n",
       "\n",
       "   sqft_lot  floors  waterfront  view  ...  grade  sqft_above  sqft_basement  \\\n",
       "0      5650    1.00           0     0  ...      7        1180              0   \n",
       "1      7242    2.00           0     0  ...      7        2170            400   \n",
       "2     10000    1.00           0     0  ...      6         770              0   \n",
       "3      5000    1.00           0     0  ...      7        1050            910   \n",
       "4      8080    1.00           0     0  ...      8        1680              0   \n",
       "\n",
       "   yr_built  yr_renovated  zipcode   lat    long  sqft_living15  sqft_lot15  \n",
       "0      1955             0    98178 47.51 -122.26           1340        5650  \n",
       "1      1951          1991    98125 47.72 -122.32           1690        7639  \n",
       "2      1933             0    98028 47.74 -122.23           2720        8062  \n",
       "3      1965             0    98136 47.52 -122.39           1360        5000  \n",
       "4      1987             0    98074 47.62 -122.05           1800        7503  \n",
       "\n",
       "[5 rows x 21 columns]"
      ]
     },
     "execution_count": 2,
     "metadata": {},
     "output_type": "execute_result"
    }
   ],
   "source": [
    "path = '~/repos/Projetos-Data-Science/Projeto House Rocket/dataset/kc_house_data.csv'\n",
    "\n",
    "def data_collect(path):\n",
    "    dataframe = pd.read_csv(path, parse_dates=['date'])\n",
    "\n",
    "    return dataframe\n",
    "\n",
    "data = data_collect(path)\n",
    "data.head()"
   ]
  },
  {
   "cell_type": "code",
   "execution_count": 3,
   "metadata": {
    "ExecuteTime": {
     "end_time": "2022-04-07T11:33:09.643031Z",
     "start_time": "2022-04-07T11:33:09.637241Z"
    }
   },
   "outputs": [],
   "source": [
    "# Dimensions of the data\n",
    "\n",
    "def show_dimensions(data):\n",
    "    print(f'Quantidade de linhas do dataset {data.shape[0]}')\n",
    "    print(f'Quantidade de colunas do dataset {data.shape[1]}\\n')\n",
    "    \n",
    "    return None\n",
    "\n",
    "def show_dtypes(data):\n",
    "    # Data Types\n",
    "    data.info()\n",
    "    \n",
    "    return None"
   ]
  },
  {
   "cell_type": "markdown",
   "metadata": {
    "ExecuteTime": {
     "end_time": "2022-04-04T12:56:55.296916Z",
     "start_time": "2022-04-04T12:56:55.293038Z"
    }
   },
   "source": [
    "# Limpeza dos dados"
   ]
  },
  {
   "cell_type": "code",
   "execution_count": 4,
   "metadata": {
    "ExecuteTime": {
     "end_time": "2022-04-07T11:33:12.793767Z",
     "start_time": "2022-04-07T11:33:12.787500Z"
    }
   },
   "outputs": [
    {
     "name": "stdout",
     "output_type": "stream",
     "text": [
      "Quantidade de linhas do dataset 21613\n",
      "Quantidade de colunas do dataset 21\n",
      "\n"
     ]
    }
   ],
   "source": [
    "show_dimensions(data)"
   ]
  },
  {
   "cell_type": "code",
   "execution_count": 5,
   "metadata": {
    "ExecuteTime": {
     "end_time": "2022-04-07T11:33:13.565380Z",
     "start_time": "2022-04-07T11:33:13.556394Z"
    }
   },
   "outputs": [
    {
     "data": {
      "text/plain": [
       "21436"
      ]
     },
     "execution_count": 5,
     "metadata": {},
     "output_type": "execute_result"
    }
   ],
   "source": [
    "# Tratando dados duplicados\n",
    "data['id'].nunique()"
   ]
  },
  {
   "cell_type": "code",
   "execution_count": 7,
   "metadata": {
    "ExecuteTime": {
     "end_time": "2022-04-07T11:33:31.038599Z",
     "start_time": "2022-04-07T11:33:31.018762Z"
    }
   },
   "outputs": [],
   "source": [
    "data.drop_duplicates(subset='id', keep='last', inplace=True)"
   ]
  },
  {
   "cell_type": "code",
   "execution_count": 9,
   "metadata": {
    "ExecuteTime": {
     "end_time": "2022-04-07T11:33:52.319900Z",
     "start_time": "2022-04-07T11:33:52.284821Z"
    }
   },
   "outputs": [
    {
     "data": {
      "text/html": [
       "<div>\n",
       "<style scoped>\n",
       "    .dataframe tbody tr th:only-of-type {\n",
       "        vertical-align: middle;\n",
       "    }\n",
       "\n",
       "    .dataframe tbody tr th {\n",
       "        vertical-align: top;\n",
       "    }\n",
       "\n",
       "    .dataframe thead th {\n",
       "        text-align: right;\n",
       "    }\n",
       "</style>\n",
       "<table border=\"1\" class=\"dataframe\">\n",
       "  <thead>\n",
       "    <tr style=\"text-align: right;\">\n",
       "      <th></th>\n",
       "      <th>id</th>\n",
       "      <th>date</th>\n",
       "      <th>price</th>\n",
       "      <th>bedrooms</th>\n",
       "      <th>bathrooms</th>\n",
       "      <th>sqft_living</th>\n",
       "      <th>sqft_lot</th>\n",
       "      <th>floors</th>\n",
       "      <th>waterfront</th>\n",
       "      <th>view</th>\n",
       "      <th>...</th>\n",
       "      <th>grade</th>\n",
       "      <th>sqft_above</th>\n",
       "      <th>sqft_basement</th>\n",
       "      <th>yr_built</th>\n",
       "      <th>yr_renovated</th>\n",
       "      <th>zipcode</th>\n",
       "      <th>lat</th>\n",
       "      <th>long</th>\n",
       "      <th>sqft_living15</th>\n",
       "      <th>sqft_lot15</th>\n",
       "    </tr>\n",
       "  </thead>\n",
       "  <tbody>\n",
       "  </tbody>\n",
       "</table>\n",
       "<p>0 rows × 21 columns</p>\n",
       "</div>"
      ],
      "text/plain": [
       "Empty DataFrame\n",
       "Columns: [id, date, price, bedrooms, bathrooms, sqft_living, sqft_lot, floors, waterfront, view, condition, grade, sqft_above, sqft_basement, yr_built, yr_renovated, zipcode, lat, long, sqft_living15, sqft_lot15]\n",
       "Index: []\n",
       "\n",
       "[0 rows x 21 columns]"
      ]
     },
     "execution_count": 9,
     "metadata": {},
     "output_type": "execute_result"
    }
   ],
   "source": [
    "id_counts = data['id'].value_counts()\n",
    "dupe_ids = id_counts > 1\n",
    "dupe_mask = id_counts.index[dupe_ids]\n",
    "\n",
    "dupe_maks = list(dupe_mask)\n",
    "data.loc[data['id'].isin(dupe_mask), : ].head(int(len(dupe_mask) * 0.1))"
   ]
  },
  {
   "cell_type": "code",
   "execution_count": 10,
   "metadata": {
    "ExecuteTime": {
     "end_time": "2022-04-07T11:33:56.572668Z",
     "start_time": "2022-04-07T11:33:56.565526Z"
    }
   },
   "outputs": [
    {
     "name": "stdout",
     "output_type": "stream",
     "text": [
      "Quantidade de linhas do dataset 21436\n",
      "Quantidade de colunas do dataset 21\n",
      "\n"
     ]
    }
   ],
   "source": [
    "show_dimensions(data)"
   ]
  },
  {
   "cell_type": "code",
   "execution_count": 11,
   "metadata": {
    "ExecuteTime": {
     "end_time": "2022-04-07T11:33:57.763944Z",
     "start_time": "2022-04-07T11:33:57.656618Z"
    }
   },
   "outputs": [
    {
     "data": {
      "text/html": [
       "<div>\n",
       "<style scoped>\n",
       "    .dataframe tbody tr th:only-of-type {\n",
       "        vertical-align: middle;\n",
       "    }\n",
       "\n",
       "    .dataframe tbody tr th {\n",
       "        vertical-align: top;\n",
       "    }\n",
       "\n",
       "    .dataframe thead th {\n",
       "        text-align: right;\n",
       "    }\n",
       "</style>\n",
       "<table border=\"1\" class=\"dataframe\">\n",
       "  <thead>\n",
       "    <tr style=\"text-align: right;\">\n",
       "      <th></th>\n",
       "      <th>id</th>\n",
       "      <th>bedrooms</th>\n",
       "      <th>sqft_living</th>\n",
       "      <th>sqft_lot</th>\n",
       "      <th>waterfront</th>\n",
       "      <th>view</th>\n",
       "      <th>condition</th>\n",
       "      <th>grade</th>\n",
       "      <th>sqft_above</th>\n",
       "      <th>sqft_basement</th>\n",
       "      <th>yr_built</th>\n",
       "      <th>yr_renovated</th>\n",
       "      <th>zipcode</th>\n",
       "      <th>sqft_living15</th>\n",
       "      <th>sqft_lot15</th>\n",
       "    </tr>\n",
       "  </thead>\n",
       "  <tbody>\n",
       "    <tr>\n",
       "      <th>count</th>\n",
       "      <td>21436.00</td>\n",
       "      <td>21436.00</td>\n",
       "      <td>21436.00</td>\n",
       "      <td>21436.00</td>\n",
       "      <td>21436.00</td>\n",
       "      <td>21436.00</td>\n",
       "      <td>21436.00</td>\n",
       "      <td>21436.00</td>\n",
       "      <td>21436.00</td>\n",
       "      <td>21436.00</td>\n",
       "      <td>21436.00</td>\n",
       "      <td>21436.00</td>\n",
       "      <td>21436.00</td>\n",
       "      <td>21436.00</td>\n",
       "      <td>21436.00</td>\n",
       "    </tr>\n",
       "    <tr>\n",
       "      <th>mean</th>\n",
       "      <td>4580765328.18</td>\n",
       "      <td>3.37</td>\n",
       "      <td>2082.70</td>\n",
       "      <td>15135.64</td>\n",
       "      <td>0.01</td>\n",
       "      <td>0.24</td>\n",
       "      <td>3.41</td>\n",
       "      <td>7.66</td>\n",
       "      <td>1790.96</td>\n",
       "      <td>291.74</td>\n",
       "      <td>1971.10</td>\n",
       "      <td>84.73</td>\n",
       "      <td>98077.86</td>\n",
       "      <td>1988.31</td>\n",
       "      <td>12785.96</td>\n",
       "    </tr>\n",
       "    <tr>\n",
       "      <th>std</th>\n",
       "      <td>2876589633.67</td>\n",
       "      <td>0.93</td>\n",
       "      <td>919.15</td>\n",
       "      <td>41538.62</td>\n",
       "      <td>0.09</td>\n",
       "      <td>0.77</td>\n",
       "      <td>0.65</td>\n",
       "      <td>1.17</td>\n",
       "      <td>829.03</td>\n",
       "      <td>442.78</td>\n",
       "      <td>29.39</td>\n",
       "      <td>402.43</td>\n",
       "      <td>53.47</td>\n",
       "      <td>685.70</td>\n",
       "      <td>27375.47</td>\n",
       "    </tr>\n",
       "    <tr>\n",
       "      <th>min</th>\n",
       "      <td>1000102.00</td>\n",
       "      <td>0.00</td>\n",
       "      <td>290.00</td>\n",
       "      <td>520.00</td>\n",
       "      <td>0.00</td>\n",
       "      <td>0.00</td>\n",
       "      <td>1.00</td>\n",
       "      <td>1.00</td>\n",
       "      <td>290.00</td>\n",
       "      <td>0.00</td>\n",
       "      <td>1900.00</td>\n",
       "      <td>0.00</td>\n",
       "      <td>98001.00</td>\n",
       "      <td>399.00</td>\n",
       "      <td>651.00</td>\n",
       "    </tr>\n",
       "    <tr>\n",
       "      <th>25%</th>\n",
       "      <td>2123700078.75</td>\n",
       "      <td>3.00</td>\n",
       "      <td>1430.00</td>\n",
       "      <td>5040.00</td>\n",
       "      <td>0.00</td>\n",
       "      <td>0.00</td>\n",
       "      <td>3.00</td>\n",
       "      <td>7.00</td>\n",
       "      <td>1200.00</td>\n",
       "      <td>0.00</td>\n",
       "      <td>1952.00</td>\n",
       "      <td>0.00</td>\n",
       "      <td>98033.00</td>\n",
       "      <td>1490.00</td>\n",
       "      <td>5100.00</td>\n",
       "    </tr>\n",
       "    <tr>\n",
       "      <th>50%</th>\n",
       "      <td>3904921185.00</td>\n",
       "      <td>3.00</td>\n",
       "      <td>1920.00</td>\n",
       "      <td>7614.00</td>\n",
       "      <td>0.00</td>\n",
       "      <td>0.00</td>\n",
       "      <td>3.00</td>\n",
       "      <td>7.00</td>\n",
       "      <td>1560.00</td>\n",
       "      <td>0.00</td>\n",
       "      <td>1975.00</td>\n",
       "      <td>0.00</td>\n",
       "      <td>98065.00</td>\n",
       "      <td>1840.00</td>\n",
       "      <td>7620.00</td>\n",
       "    </tr>\n",
       "    <tr>\n",
       "      <th>75%</th>\n",
       "      <td>7308675062.50</td>\n",
       "      <td>4.00</td>\n",
       "      <td>2550.00</td>\n",
       "      <td>10696.25</td>\n",
       "      <td>0.00</td>\n",
       "      <td>0.00</td>\n",
       "      <td>4.00</td>\n",
       "      <td>8.00</td>\n",
       "      <td>2220.00</td>\n",
       "      <td>560.00</td>\n",
       "      <td>1997.00</td>\n",
       "      <td>0.00</td>\n",
       "      <td>98117.00</td>\n",
       "      <td>2370.00</td>\n",
       "      <td>10087.25</td>\n",
       "    </tr>\n",
       "    <tr>\n",
       "      <th>max</th>\n",
       "      <td>9900000190.00</td>\n",
       "      <td>33.00</td>\n",
       "      <td>13540.00</td>\n",
       "      <td>1651359.00</td>\n",
       "      <td>1.00</td>\n",
       "      <td>4.00</td>\n",
       "      <td>5.00</td>\n",
       "      <td>13.00</td>\n",
       "      <td>9410.00</td>\n",
       "      <td>4820.00</td>\n",
       "      <td>2015.00</td>\n",
       "      <td>2015.00</td>\n",
       "      <td>98199.00</td>\n",
       "      <td>6210.00</td>\n",
       "      <td>871200.00</td>\n",
       "    </tr>\n",
       "  </tbody>\n",
       "</table>\n",
       "</div>"
      ],
      "text/plain": [
       "                 id  bedrooms  sqft_living   sqft_lot  waterfront     view  \\\n",
       "count      21436.00  21436.00     21436.00   21436.00    21436.00 21436.00   \n",
       "mean  4580765328.18      3.37      2082.70   15135.64        0.01     0.24   \n",
       "std   2876589633.67      0.93       919.15   41538.62        0.09     0.77   \n",
       "min      1000102.00      0.00       290.00     520.00        0.00     0.00   \n",
       "25%   2123700078.75      3.00      1430.00    5040.00        0.00     0.00   \n",
       "50%   3904921185.00      3.00      1920.00    7614.00        0.00     0.00   \n",
       "75%   7308675062.50      4.00      2550.00   10696.25        0.00     0.00   \n",
       "max   9900000190.00     33.00     13540.00 1651359.00        1.00     4.00   \n",
       "\n",
       "       condition    grade  sqft_above  sqft_basement  yr_built  yr_renovated  \\\n",
       "count   21436.00 21436.00    21436.00       21436.00  21436.00      21436.00   \n",
       "mean        3.41     7.66     1790.96         291.74   1971.10         84.73   \n",
       "std         0.65     1.17      829.03         442.78     29.39        402.43   \n",
       "min         1.00     1.00      290.00           0.00   1900.00          0.00   \n",
       "25%         3.00     7.00     1200.00           0.00   1952.00          0.00   \n",
       "50%         3.00     7.00     1560.00           0.00   1975.00          0.00   \n",
       "75%         4.00     8.00     2220.00         560.00   1997.00          0.00   \n",
       "max         5.00    13.00     9410.00        4820.00   2015.00       2015.00   \n",
       "\n",
       "       zipcode  sqft_living15  sqft_lot15  \n",
       "count 21436.00       21436.00    21436.00  \n",
       "mean  98077.86        1988.31    12785.96  \n",
       "std      53.47         685.70    27375.47  \n",
       "min   98001.00         399.00      651.00  \n",
       "25%   98033.00        1490.00     5100.00  \n",
       "50%   98065.00        1840.00     7620.00  \n",
       "75%   98117.00        2370.00    10087.25  \n",
       "max   98199.00        6210.00   871200.00  "
      ]
     },
     "execution_count": 11,
     "metadata": {},
     "output_type": "execute_result"
    }
   ],
   "source": [
    "# Tratando os outliers e valores inconclusivos\n",
    "data.describe(include= 'int64')"
   ]
  },
  {
   "cell_type": "code",
   "execution_count": 12,
   "metadata": {
    "ExecuteTime": {
     "end_time": "2022-04-07T11:33:58.483161Z",
     "start_time": "2022-04-07T11:33:58.418319Z"
    }
   },
   "outputs": [
    {
     "data": {
      "text/html": [
       "<div>\n",
       "<style scoped>\n",
       "    .dataframe tbody tr th:only-of-type {\n",
       "        vertical-align: middle;\n",
       "    }\n",
       "\n",
       "    .dataframe tbody tr th {\n",
       "        vertical-align: top;\n",
       "    }\n",
       "\n",
       "    .dataframe thead th {\n",
       "        text-align: right;\n",
       "    }\n",
       "</style>\n",
       "<table border=\"1\" class=\"dataframe\">\n",
       "  <thead>\n",
       "    <tr style=\"text-align: right;\">\n",
       "      <th></th>\n",
       "      <th>price</th>\n",
       "      <th>bathrooms</th>\n",
       "      <th>floors</th>\n",
       "      <th>lat</th>\n",
       "      <th>long</th>\n",
       "    </tr>\n",
       "  </thead>\n",
       "  <tbody>\n",
       "    <tr>\n",
       "      <th>count</th>\n",
       "      <td>21436.00</td>\n",
       "      <td>21436.00</td>\n",
       "      <td>21436.00</td>\n",
       "      <td>21436.00</td>\n",
       "      <td>21436.00</td>\n",
       "    </tr>\n",
       "    <tr>\n",
       "      <th>mean</th>\n",
       "      <td>541649.96</td>\n",
       "      <td>2.12</td>\n",
       "      <td>1.50</td>\n",
       "      <td>47.56</td>\n",
       "      <td>-122.21</td>\n",
       "    </tr>\n",
       "    <tr>\n",
       "      <th>std</th>\n",
       "      <td>367314.93</td>\n",
       "      <td>0.77</td>\n",
       "      <td>0.54</td>\n",
       "      <td>0.14</td>\n",
       "      <td>0.14</td>\n",
       "    </tr>\n",
       "    <tr>\n",
       "      <th>min</th>\n",
       "      <td>75000.00</td>\n",
       "      <td>0.00</td>\n",
       "      <td>1.00</td>\n",
       "      <td>47.16</td>\n",
       "      <td>-122.52</td>\n",
       "    </tr>\n",
       "    <tr>\n",
       "      <th>25%</th>\n",
       "      <td>324866.00</td>\n",
       "      <td>1.75</td>\n",
       "      <td>1.00</td>\n",
       "      <td>47.47</td>\n",
       "      <td>-122.33</td>\n",
       "    </tr>\n",
       "    <tr>\n",
       "      <th>50%</th>\n",
       "      <td>450000.00</td>\n",
       "      <td>2.25</td>\n",
       "      <td>1.50</td>\n",
       "      <td>47.57</td>\n",
       "      <td>-122.23</td>\n",
       "    </tr>\n",
       "    <tr>\n",
       "      <th>75%</th>\n",
       "      <td>645000.00</td>\n",
       "      <td>2.50</td>\n",
       "      <td>2.00</td>\n",
       "      <td>47.68</td>\n",
       "      <td>-122.12</td>\n",
       "    </tr>\n",
       "    <tr>\n",
       "      <th>max</th>\n",
       "      <td>7700000.00</td>\n",
       "      <td>8.00</td>\n",
       "      <td>3.50</td>\n",
       "      <td>47.78</td>\n",
       "      <td>-121.31</td>\n",
       "    </tr>\n",
       "  </tbody>\n",
       "</table>\n",
       "</div>"
      ],
      "text/plain": [
       "           price  bathrooms   floors      lat     long\n",
       "count   21436.00   21436.00 21436.00 21436.00 21436.00\n",
       "mean   541649.96       2.12     1.50    47.56  -122.21\n",
       "std    367314.93       0.77     0.54     0.14     0.14\n",
       "min     75000.00       0.00     1.00    47.16  -122.52\n",
       "25%    324866.00       1.75     1.00    47.47  -122.33\n",
       "50%    450000.00       2.25     1.50    47.57  -122.23\n",
       "75%    645000.00       2.50     2.00    47.68  -122.12\n",
       "max   7700000.00       8.00     3.50    47.78  -121.31"
      ]
     },
     "execution_count": 12,
     "metadata": {},
     "output_type": "execute_result"
    }
   ],
   "source": [
    "data.describe(include= 'float64')"
   ]
  },
  {
   "cell_type": "code",
   "execution_count": 13,
   "metadata": {
    "ExecuteTime": {
     "end_time": "2022-04-07T11:33:58.922394Z",
     "start_time": "2022-04-07T11:33:58.797194Z"
    }
   },
   "outputs": [
    {
     "data": {
      "text/html": [
       "<div>\n",
       "<style scoped>\n",
       "    .dataframe tbody tr th:only-of-type {\n",
       "        vertical-align: middle;\n",
       "    }\n",
       "\n",
       "    .dataframe tbody tr th {\n",
       "        vertical-align: top;\n",
       "    }\n",
       "\n",
       "    .dataframe thead th {\n",
       "        text-align: right;\n",
       "    }\n",
       "</style>\n",
       "<table border=\"1\" class=\"dataframe\">\n",
       "  <thead>\n",
       "    <tr style=\"text-align: right;\">\n",
       "      <th></th>\n",
       "      <th>count</th>\n",
       "      <th>mean</th>\n",
       "      <th>std</th>\n",
       "      <th>min</th>\n",
       "      <th>25%</th>\n",
       "      <th>50%</th>\n",
       "      <th>75%</th>\n",
       "      <th>max</th>\n",
       "    </tr>\n",
       "  </thead>\n",
       "  <tbody>\n",
       "    <tr>\n",
       "      <th>id</th>\n",
       "      <td>282.00</td>\n",
       "      <td>4442471640.39</td>\n",
       "      <td>3021489955.30</td>\n",
       "      <td>263000006.00</td>\n",
       "      <td>1972200277.25</td>\n",
       "      <td>3797002242.50</td>\n",
       "      <td>6749700023.75</td>\n",
       "      <td>9551201250.00</td>\n",
       "    </tr>\n",
       "    <tr>\n",
       "      <th>price</th>\n",
       "      <td>282.00</td>\n",
       "      <td>558990.60</td>\n",
       "      <td>175307.95</td>\n",
       "      <td>245000.00</td>\n",
       "      <td>415250.00</td>\n",
       "      <td>543000.00</td>\n",
       "      <td>660000.00</td>\n",
       "      <td>1555000.00</td>\n",
       "    </tr>\n",
       "    <tr>\n",
       "      <th>bedrooms</th>\n",
       "      <td>282.00</td>\n",
       "      <td>3.00</td>\n",
       "      <td>0.00</td>\n",
       "      <td>3.00</td>\n",
       "      <td>3.00</td>\n",
       "      <td>3.00</td>\n",
       "      <td>3.00</td>\n",
       "      <td>3.00</td>\n",
       "    </tr>\n",
       "    <tr>\n",
       "      <th>bathrooms</th>\n",
       "      <td>282.00</td>\n",
       "      <td>2.05</td>\n",
       "      <td>0.70</td>\n",
       "      <td>0.75</td>\n",
       "      <td>1.75</td>\n",
       "      <td>2.00</td>\n",
       "      <td>2.50</td>\n",
       "      <td>4.00</td>\n",
       "    </tr>\n",
       "    <tr>\n",
       "      <th>sqft_living</th>\n",
       "      <td>282.00</td>\n",
       "      <td>1612.38</td>\n",
       "      <td>402.02</td>\n",
       "      <td>800.00</td>\n",
       "      <td>1360.00</td>\n",
       "      <td>1530.00</td>\n",
       "      <td>1795.00</td>\n",
       "      <td>4360.00</td>\n",
       "    </tr>\n",
       "    <tr>\n",
       "      <th>sqft_lot</th>\n",
       "      <td>282.00</td>\n",
       "      <td>2969.77</td>\n",
       "      <td>1796.55</td>\n",
       "      <td>651.00</td>\n",
       "      <td>1320.75</td>\n",
       "      <td>2669.00</td>\n",
       "      <td>4164.75</td>\n",
       "      <td>9450.00</td>\n",
       "    </tr>\n",
       "    <tr>\n",
       "      <th>floors</th>\n",
       "      <td>282.00</td>\n",
       "      <td>2.09</td>\n",
       "      <td>0.84</td>\n",
       "      <td>1.00</td>\n",
       "      <td>1.50</td>\n",
       "      <td>2.00</td>\n",
       "      <td>3.00</td>\n",
       "      <td>3.50</td>\n",
       "    </tr>\n",
       "    <tr>\n",
       "      <th>waterfront</th>\n",
       "      <td>282.00</td>\n",
       "      <td>0.00</td>\n",
       "      <td>0.00</td>\n",
       "      <td>0.00</td>\n",
       "      <td>0.00</td>\n",
       "      <td>0.00</td>\n",
       "      <td>0.00</td>\n",
       "      <td>0.00</td>\n",
       "    </tr>\n",
       "    <tr>\n",
       "      <th>view</th>\n",
       "      <td>282.00</td>\n",
       "      <td>0.17</td>\n",
       "      <td>0.67</td>\n",
       "      <td>0.00</td>\n",
       "      <td>0.00</td>\n",
       "      <td>0.00</td>\n",
       "      <td>0.00</td>\n",
       "      <td>4.00</td>\n",
       "    </tr>\n",
       "    <tr>\n",
       "      <th>condition</th>\n",
       "      <td>282.00</td>\n",
       "      <td>3.40</td>\n",
       "      <td>0.72</td>\n",
       "      <td>1.00</td>\n",
       "      <td>3.00</td>\n",
       "      <td>3.00</td>\n",
       "      <td>4.00</td>\n",
       "      <td>5.00</td>\n",
       "    </tr>\n",
       "    <tr>\n",
       "      <th>grade</th>\n",
       "      <td>282.00</td>\n",
       "      <td>7.51</td>\n",
       "      <td>0.68</td>\n",
       "      <td>6.00</td>\n",
       "      <td>7.00</td>\n",
       "      <td>8.00</td>\n",
       "      <td>8.00</td>\n",
       "      <td>10.00</td>\n",
       "    </tr>\n",
       "    <tr>\n",
       "      <th>sqft_above</th>\n",
       "      <td>282.00</td>\n",
       "      <td>1414.21</td>\n",
       "      <td>329.63</td>\n",
       "      <td>700.00</td>\n",
       "      <td>1232.50</td>\n",
       "      <td>1405.00</td>\n",
       "      <td>1557.50</td>\n",
       "      <td>2960.00</td>\n",
       "    </tr>\n",
       "    <tr>\n",
       "      <th>sqft_basement</th>\n",
       "      <td>282.00</td>\n",
       "      <td>198.17</td>\n",
       "      <td>326.85</td>\n",
       "      <td>0.00</td>\n",
       "      <td>0.00</td>\n",
       "      <td>0.00</td>\n",
       "      <td>320.00</td>\n",
       "      <td>1400.00</td>\n",
       "    </tr>\n",
       "    <tr>\n",
       "      <th>yr_built</th>\n",
       "      <td>282.00</td>\n",
       "      <td>1964.57</td>\n",
       "      <td>42.84</td>\n",
       "      <td>1900.00</td>\n",
       "      <td>1923.25</td>\n",
       "      <td>1982.00</td>\n",
       "      <td>2007.00</td>\n",
       "      <td>2014.00</td>\n",
       "    </tr>\n",
       "    <tr>\n",
       "      <th>yr_renovated</th>\n",
       "      <td>282.00</td>\n",
       "      <td>106.10</td>\n",
       "      <td>448.46</td>\n",
       "      <td>0.00</td>\n",
       "      <td>0.00</td>\n",
       "      <td>0.00</td>\n",
       "      <td>0.00</td>\n",
       "      <td>2014.00</td>\n",
       "    </tr>\n",
       "    <tr>\n",
       "      <th>zipcode</th>\n",
       "      <td>282.00</td>\n",
       "      <td>98103.00</td>\n",
       "      <td>0.00</td>\n",
       "      <td>98103.00</td>\n",
       "      <td>98103.00</td>\n",
       "      <td>98103.00</td>\n",
       "      <td>98103.00</td>\n",
       "      <td>98103.00</td>\n",
       "    </tr>\n",
       "    <tr>\n",
       "      <th>lat</th>\n",
       "      <td>282.00</td>\n",
       "      <td>47.68</td>\n",
       "      <td>0.02</td>\n",
       "      <td>47.65</td>\n",
       "      <td>47.66</td>\n",
       "      <td>47.68</td>\n",
       "      <td>47.69</td>\n",
       "      <td>47.70</td>\n",
       "    </tr>\n",
       "    <tr>\n",
       "      <th>long</th>\n",
       "      <td>282.00</td>\n",
       "      <td>-122.34</td>\n",
       "      <td>0.01</td>\n",
       "      <td>-122.36</td>\n",
       "      <td>-122.35</td>\n",
       "      <td>-122.35</td>\n",
       "      <td>-122.34</td>\n",
       "      <td>-122.33</td>\n",
       "    </tr>\n",
       "    <tr>\n",
       "      <th>sqft_living15</th>\n",
       "      <td>282.00</td>\n",
       "      <td>1504.24</td>\n",
       "      <td>252.13</td>\n",
       "      <td>870.00</td>\n",
       "      <td>1330.00</td>\n",
       "      <td>1470.00</td>\n",
       "      <td>1640.00</td>\n",
       "      <td>2440.00</td>\n",
       "    </tr>\n",
       "    <tr>\n",
       "      <th>sqft_lot15</th>\n",
       "      <td>282.00</td>\n",
       "      <td>3037.44</td>\n",
       "      <td>1596.87</td>\n",
       "      <td>1038.00</td>\n",
       "      <td>1383.25</td>\n",
       "      <td>3105.00</td>\n",
       "      <td>4473.25</td>\n",
       "      <td>8431.00</td>\n",
       "    </tr>\n",
       "  </tbody>\n",
       "</table>\n",
       "</div>"
      ],
      "text/plain": [
       "               count          mean           std          min           25%  \\\n",
       "id            282.00 4442471640.39 3021489955.30 263000006.00 1972200277.25   \n",
       "price         282.00     558990.60     175307.95    245000.00     415250.00   \n",
       "bedrooms      282.00          3.00          0.00         3.00          3.00   \n",
       "bathrooms     282.00          2.05          0.70         0.75          1.75   \n",
       "sqft_living   282.00       1612.38        402.02       800.00       1360.00   \n",
       "sqft_lot      282.00       2969.77       1796.55       651.00       1320.75   \n",
       "floors        282.00          2.09          0.84         1.00          1.50   \n",
       "waterfront    282.00          0.00          0.00         0.00          0.00   \n",
       "view          282.00          0.17          0.67         0.00          0.00   \n",
       "condition     282.00          3.40          0.72         1.00          3.00   \n",
       "grade         282.00          7.51          0.68         6.00          7.00   \n",
       "sqft_above    282.00       1414.21        329.63       700.00       1232.50   \n",
       "sqft_basement 282.00        198.17        326.85         0.00          0.00   \n",
       "yr_built      282.00       1964.57         42.84      1900.00       1923.25   \n",
       "yr_renovated  282.00        106.10        448.46         0.00          0.00   \n",
       "zipcode       282.00      98103.00          0.00     98103.00      98103.00   \n",
       "lat           282.00         47.68          0.02        47.65         47.66   \n",
       "long          282.00       -122.34          0.01      -122.36       -122.35   \n",
       "sqft_living15 282.00       1504.24        252.13       870.00       1330.00   \n",
       "sqft_lot15    282.00       3037.44       1596.87      1038.00       1383.25   \n",
       "\n",
       "                        50%           75%           max  \n",
       "id            3797002242.50 6749700023.75 9551201250.00  \n",
       "price             543000.00     660000.00    1555000.00  \n",
       "bedrooms               3.00          3.00          3.00  \n",
       "bathrooms              2.00          2.50          4.00  \n",
       "sqft_living         1530.00       1795.00       4360.00  \n",
       "sqft_lot            2669.00       4164.75       9450.00  \n",
       "floors                 2.00          3.00          3.50  \n",
       "waterfront             0.00          0.00          0.00  \n",
       "view                   0.00          0.00          4.00  \n",
       "condition              3.00          4.00          5.00  \n",
       "grade                  8.00          8.00         10.00  \n",
       "sqft_above          1405.00       1557.50       2960.00  \n",
       "sqft_basement          0.00        320.00       1400.00  \n",
       "yr_built            1982.00       2007.00       2014.00  \n",
       "yr_renovated           0.00          0.00       2014.00  \n",
       "zipcode            98103.00      98103.00      98103.00  \n",
       "lat                   47.68         47.69         47.70  \n",
       "long                -122.35       -122.34       -122.33  \n",
       "sqft_living15       1470.00       1640.00       2440.00  \n",
       "sqft_lot15          3105.00       4473.25       8431.00  "
      ]
     },
     "execution_count": 13,
     "metadata": {},
     "output_type": "execute_result"
    }
   ],
   "source": [
    "data.loc[(data['bedrooms'] == 3) & (data['zipcode'] == 98103), ].describe().T"
   ]
  },
  {
   "cell_type": "code",
   "execution_count": 14,
   "metadata": {
    "ExecuteTime": {
     "end_time": "2022-04-07T11:33:59.746579Z",
     "start_time": "2022-04-07T11:33:59.617282Z"
    }
   },
   "outputs": [
    {
     "data": {
      "text/html": [
       "<div>\n",
       "<style scoped>\n",
       "    .dataframe tbody tr th:only-of-type {\n",
       "        vertical-align: middle;\n",
       "    }\n",
       "\n",
       "    .dataframe tbody tr th {\n",
       "        vertical-align: top;\n",
       "    }\n",
       "\n",
       "    .dataframe thead th {\n",
       "        text-align: right;\n",
       "    }\n",
       "</style>\n",
       "<table border=\"1\" class=\"dataframe\">\n",
       "  <thead>\n",
       "    <tr style=\"text-align: right;\">\n",
       "      <th></th>\n",
       "      <th>count</th>\n",
       "      <th>mean</th>\n",
       "      <th>std</th>\n",
       "      <th>min</th>\n",
       "      <th>25%</th>\n",
       "      <th>50%</th>\n",
       "      <th>75%</th>\n",
       "      <th>max</th>\n",
       "    </tr>\n",
       "  </thead>\n",
       "  <tbody>\n",
       "    <tr>\n",
       "      <th>id</th>\n",
       "      <td>1.00</td>\n",
       "      <td>2402100895.00</td>\n",
       "      <td>nan</td>\n",
       "      <td>2402100895.00</td>\n",
       "      <td>2402100895.00</td>\n",
       "      <td>2402100895.00</td>\n",
       "      <td>2402100895.00</td>\n",
       "      <td>2402100895.00</td>\n",
       "    </tr>\n",
       "    <tr>\n",
       "      <th>price</th>\n",
       "      <td>1.00</td>\n",
       "      <td>640000.00</td>\n",
       "      <td>nan</td>\n",
       "      <td>640000.00</td>\n",
       "      <td>640000.00</td>\n",
       "      <td>640000.00</td>\n",
       "      <td>640000.00</td>\n",
       "      <td>640000.00</td>\n",
       "    </tr>\n",
       "    <tr>\n",
       "      <th>bedrooms</th>\n",
       "      <td>1.00</td>\n",
       "      <td>33.00</td>\n",
       "      <td>nan</td>\n",
       "      <td>33.00</td>\n",
       "      <td>33.00</td>\n",
       "      <td>33.00</td>\n",
       "      <td>33.00</td>\n",
       "      <td>33.00</td>\n",
       "    </tr>\n",
       "    <tr>\n",
       "      <th>bathrooms</th>\n",
       "      <td>1.00</td>\n",
       "      <td>1.75</td>\n",
       "      <td>nan</td>\n",
       "      <td>1.75</td>\n",
       "      <td>1.75</td>\n",
       "      <td>1.75</td>\n",
       "      <td>1.75</td>\n",
       "      <td>1.75</td>\n",
       "    </tr>\n",
       "    <tr>\n",
       "      <th>sqft_living</th>\n",
       "      <td>1.00</td>\n",
       "      <td>1620.00</td>\n",
       "      <td>nan</td>\n",
       "      <td>1620.00</td>\n",
       "      <td>1620.00</td>\n",
       "      <td>1620.00</td>\n",
       "      <td>1620.00</td>\n",
       "      <td>1620.00</td>\n",
       "    </tr>\n",
       "    <tr>\n",
       "      <th>sqft_lot</th>\n",
       "      <td>1.00</td>\n",
       "      <td>6000.00</td>\n",
       "      <td>nan</td>\n",
       "      <td>6000.00</td>\n",
       "      <td>6000.00</td>\n",
       "      <td>6000.00</td>\n",
       "      <td>6000.00</td>\n",
       "      <td>6000.00</td>\n",
       "    </tr>\n",
       "    <tr>\n",
       "      <th>floors</th>\n",
       "      <td>1.00</td>\n",
       "      <td>1.00</td>\n",
       "      <td>nan</td>\n",
       "      <td>1.00</td>\n",
       "      <td>1.00</td>\n",
       "      <td>1.00</td>\n",
       "      <td>1.00</td>\n",
       "      <td>1.00</td>\n",
       "    </tr>\n",
       "    <tr>\n",
       "      <th>waterfront</th>\n",
       "      <td>1.00</td>\n",
       "      <td>0.00</td>\n",
       "      <td>nan</td>\n",
       "      <td>0.00</td>\n",
       "      <td>0.00</td>\n",
       "      <td>0.00</td>\n",
       "      <td>0.00</td>\n",
       "      <td>0.00</td>\n",
       "    </tr>\n",
       "    <tr>\n",
       "      <th>view</th>\n",
       "      <td>1.00</td>\n",
       "      <td>0.00</td>\n",
       "      <td>nan</td>\n",
       "      <td>0.00</td>\n",
       "      <td>0.00</td>\n",
       "      <td>0.00</td>\n",
       "      <td>0.00</td>\n",
       "      <td>0.00</td>\n",
       "    </tr>\n",
       "    <tr>\n",
       "      <th>condition</th>\n",
       "      <td>1.00</td>\n",
       "      <td>5.00</td>\n",
       "      <td>nan</td>\n",
       "      <td>5.00</td>\n",
       "      <td>5.00</td>\n",
       "      <td>5.00</td>\n",
       "      <td>5.00</td>\n",
       "      <td>5.00</td>\n",
       "    </tr>\n",
       "    <tr>\n",
       "      <th>grade</th>\n",
       "      <td>1.00</td>\n",
       "      <td>7.00</td>\n",
       "      <td>nan</td>\n",
       "      <td>7.00</td>\n",
       "      <td>7.00</td>\n",
       "      <td>7.00</td>\n",
       "      <td>7.00</td>\n",
       "      <td>7.00</td>\n",
       "    </tr>\n",
       "    <tr>\n",
       "      <th>sqft_above</th>\n",
       "      <td>1.00</td>\n",
       "      <td>1040.00</td>\n",
       "      <td>nan</td>\n",
       "      <td>1040.00</td>\n",
       "      <td>1040.00</td>\n",
       "      <td>1040.00</td>\n",
       "      <td>1040.00</td>\n",
       "      <td>1040.00</td>\n",
       "    </tr>\n",
       "    <tr>\n",
       "      <th>sqft_basement</th>\n",
       "      <td>1.00</td>\n",
       "      <td>580.00</td>\n",
       "      <td>nan</td>\n",
       "      <td>580.00</td>\n",
       "      <td>580.00</td>\n",
       "      <td>580.00</td>\n",
       "      <td>580.00</td>\n",
       "      <td>580.00</td>\n",
       "    </tr>\n",
       "    <tr>\n",
       "      <th>yr_built</th>\n",
       "      <td>1.00</td>\n",
       "      <td>1947.00</td>\n",
       "      <td>nan</td>\n",
       "      <td>1947.00</td>\n",
       "      <td>1947.00</td>\n",
       "      <td>1947.00</td>\n",
       "      <td>1947.00</td>\n",
       "      <td>1947.00</td>\n",
       "    </tr>\n",
       "    <tr>\n",
       "      <th>yr_renovated</th>\n",
       "      <td>1.00</td>\n",
       "      <td>0.00</td>\n",
       "      <td>nan</td>\n",
       "      <td>0.00</td>\n",
       "      <td>0.00</td>\n",
       "      <td>0.00</td>\n",
       "      <td>0.00</td>\n",
       "      <td>0.00</td>\n",
       "    </tr>\n",
       "    <tr>\n",
       "      <th>zipcode</th>\n",
       "      <td>1.00</td>\n",
       "      <td>98103.00</td>\n",
       "      <td>nan</td>\n",
       "      <td>98103.00</td>\n",
       "      <td>98103.00</td>\n",
       "      <td>98103.00</td>\n",
       "      <td>98103.00</td>\n",
       "      <td>98103.00</td>\n",
       "    </tr>\n",
       "    <tr>\n",
       "      <th>lat</th>\n",
       "      <td>1.00</td>\n",
       "      <td>47.69</td>\n",
       "      <td>nan</td>\n",
       "      <td>47.69</td>\n",
       "      <td>47.69</td>\n",
       "      <td>47.69</td>\n",
       "      <td>47.69</td>\n",
       "      <td>47.69</td>\n",
       "    </tr>\n",
       "    <tr>\n",
       "      <th>long</th>\n",
       "      <td>1.00</td>\n",
       "      <td>-122.33</td>\n",
       "      <td>nan</td>\n",
       "      <td>-122.33</td>\n",
       "      <td>-122.33</td>\n",
       "      <td>-122.33</td>\n",
       "      <td>-122.33</td>\n",
       "      <td>-122.33</td>\n",
       "    </tr>\n",
       "    <tr>\n",
       "      <th>sqft_living15</th>\n",
       "      <td>1.00</td>\n",
       "      <td>1330.00</td>\n",
       "      <td>nan</td>\n",
       "      <td>1330.00</td>\n",
       "      <td>1330.00</td>\n",
       "      <td>1330.00</td>\n",
       "      <td>1330.00</td>\n",
       "      <td>1330.00</td>\n",
       "    </tr>\n",
       "    <tr>\n",
       "      <th>sqft_lot15</th>\n",
       "      <td>1.00</td>\n",
       "      <td>4700.00</td>\n",
       "      <td>nan</td>\n",
       "      <td>4700.00</td>\n",
       "      <td>4700.00</td>\n",
       "      <td>4700.00</td>\n",
       "      <td>4700.00</td>\n",
       "      <td>4700.00</td>\n",
       "    </tr>\n",
       "  </tbody>\n",
       "</table>\n",
       "</div>"
      ],
      "text/plain": [
       "               count          mean  std           min           25%  \\\n",
       "id              1.00 2402100895.00  nan 2402100895.00 2402100895.00   \n",
       "price           1.00     640000.00  nan     640000.00     640000.00   \n",
       "bedrooms        1.00         33.00  nan         33.00         33.00   \n",
       "bathrooms       1.00          1.75  nan          1.75          1.75   \n",
       "sqft_living     1.00       1620.00  nan       1620.00       1620.00   \n",
       "sqft_lot        1.00       6000.00  nan       6000.00       6000.00   \n",
       "floors          1.00          1.00  nan          1.00          1.00   \n",
       "waterfront      1.00          0.00  nan          0.00          0.00   \n",
       "view            1.00          0.00  nan          0.00          0.00   \n",
       "condition       1.00          5.00  nan          5.00          5.00   \n",
       "grade           1.00          7.00  nan          7.00          7.00   \n",
       "sqft_above      1.00       1040.00  nan       1040.00       1040.00   \n",
       "sqft_basement   1.00        580.00  nan        580.00        580.00   \n",
       "yr_built        1.00       1947.00  nan       1947.00       1947.00   \n",
       "yr_renovated    1.00          0.00  nan          0.00          0.00   \n",
       "zipcode         1.00      98103.00  nan      98103.00      98103.00   \n",
       "lat             1.00         47.69  nan         47.69         47.69   \n",
       "long            1.00       -122.33  nan       -122.33       -122.33   \n",
       "sqft_living15   1.00       1330.00  nan       1330.00       1330.00   \n",
       "sqft_lot15      1.00       4700.00  nan       4700.00       4700.00   \n",
       "\n",
       "                        50%           75%           max  \n",
       "id            2402100895.00 2402100895.00 2402100895.00  \n",
       "price             640000.00     640000.00     640000.00  \n",
       "bedrooms              33.00         33.00         33.00  \n",
       "bathrooms              1.75          1.75          1.75  \n",
       "sqft_living         1620.00       1620.00       1620.00  \n",
       "sqft_lot            6000.00       6000.00       6000.00  \n",
       "floors                 1.00          1.00          1.00  \n",
       "waterfront             0.00          0.00          0.00  \n",
       "view                   0.00          0.00          0.00  \n",
       "condition              5.00          5.00          5.00  \n",
       "grade                  7.00          7.00          7.00  \n",
       "sqft_above          1040.00       1040.00       1040.00  \n",
       "sqft_basement        580.00        580.00        580.00  \n",
       "yr_built            1947.00       1947.00       1947.00  \n",
       "yr_renovated           0.00          0.00          0.00  \n",
       "zipcode            98103.00      98103.00      98103.00  \n",
       "lat                   47.69         47.69         47.69  \n",
       "long                -122.33       -122.33       -122.33  \n",
       "sqft_living15       1330.00       1330.00       1330.00  \n",
       "sqft_lot15          4700.00       4700.00       4700.00  "
      ]
     },
     "execution_count": 14,
     "metadata": {},
     "output_type": "execute_result"
    }
   ],
   "source": [
    "data.loc[data['bedrooms'] == 33, ].describe().T"
   ]
  },
  {
   "cell_type": "code",
   "execution_count": 15,
   "metadata": {
    "ExecuteTime": {
     "end_time": "2022-04-07T11:34:02.359744Z",
     "start_time": "2022-04-07T11:34:02.345528Z"
    }
   },
   "outputs": [],
   "source": [
    "data.loc[data['bedrooms'] == 33, 'bedrooms'] = 3"
   ]
  },
  {
   "cell_type": "code",
   "execution_count": 16,
   "metadata": {
    "ExecuteTime": {
     "end_time": "2022-04-07T11:34:04.537666Z",
     "start_time": "2022-04-07T11:34:04.526209Z"
    }
   },
   "outputs": [],
   "source": [
    "data = data.loc[data['bathrooms'] != 0 ]"
   ]
  },
  {
   "cell_type": "markdown",
   "metadata": {
    "ExecuteTime": {
     "end_time": "2022-04-04T12:56:49.878443Z",
     "start_time": "2022-04-04T12:56:49.873577Z"
    }
   },
   "source": [
    "# Transformação dos dados"
   ]
  },
  {
   "cell_type": "code",
   "execution_count": 17,
   "metadata": {
    "ExecuteTime": {
     "end_time": "2022-04-07T11:34:06.102920Z",
     "start_time": "2022-04-07T11:34:06.087705Z"
    }
   },
   "outputs": [],
   "source": [
    "def data_transformation(data):\n",
    "    \n",
    "\n",
    "    data['standard'] = data['price'].apply(lambda x: 'high_standard' if x >= 540000 else 'low_standard')\n",
    "\n",
    "    data['dormitory_type'] = data['bedrooms'].apply(lambda x: 'studio' if x == 1 else\n",
    "                                                              'apartment' if x == 2 else\n",
    "                                                              'house')\n",
    "\n",
    "    data['condition_type'] = data['condition'].apply(lambda x: 'very bad' if x == 1 else\n",
    "                                                        'bad' if x == 2 else\n",
    "                                                        'regular' if x == 3 else\n",
    "                                                        'good' if x == 4 else\n",
    "                                                        'very good')\n",
    "\n",
    "    data['construction'] = data['yr_built'].apply(lambda x: '>1955' if x > 1955 else '<1955')\n",
    "\n",
    "    data['basement_status'] = data['sqft_basement'].apply(lambda x: 'yes' if x != 0 else 'no')\n",
    "\n",
    "    data['month'] = data['date'].apply(lambda x: int(x.strftime('%m')))\n",
    "\n",
    "    data['season'] = data['month'].apply(lambda x: 'spring' if  (x >=3) and (x <= 5)  else\n",
    "                                                   'summer' if  (x >=6) and (x <= 8)  else\n",
    "                                                   'fall'   if  (x >=9) and (x <= 11) else\n",
    "                                                   'winter')\n",
    "\n",
    "    data['waterfront_status'] = data['waterfront'].apply(lambda x: 'no' if x == 0 else\n",
    "                                                         'yes')\n",
    "\n",
    "    data['renovated_status'] = data['yr_renovated'].apply(lambda x: 'yes' if x != 0 else 'no')\n",
    "\n",
    "    return data"
   ]
  },
  {
   "cell_type": "code",
   "execution_count": 18,
   "metadata": {
    "ExecuteTime": {
     "end_time": "2022-04-07T11:34:08.542806Z",
     "start_time": "2022-04-07T11:34:08.353775Z"
    }
   },
   "outputs": [],
   "source": [
    "data = data_transformation(data)"
   ]
  },
  {
   "cell_type": "markdown",
   "metadata": {
    "ExecuteTime": {
     "end_time": "2022-04-04T12:57:27.001355Z",
     "start_time": "2022-04-04T12:57:26.994440Z"
    }
   },
   "source": [
    "# Exploração dos dados\n",
    " 1 - Analise Descritiva"
   ]
  },
  {
   "cell_type": "code",
   "execution_count": 19,
   "metadata": {
    "ExecuteTime": {
     "end_time": "2022-04-07T11:34:09.900963Z",
     "start_time": "2022-04-07T11:34:09.743451Z"
    }
   },
   "outputs": [
    {
     "data": {
      "text/html": [
       "<div>\n",
       "<style scoped>\n",
       "    .dataframe tbody tr th:only-of-type {\n",
       "        vertical-align: middle;\n",
       "    }\n",
       "\n",
       "    .dataframe tbody tr th {\n",
       "        vertical-align: top;\n",
       "    }\n",
       "\n",
       "    .dataframe thead th {\n",
       "        text-align: right;\n",
       "    }\n",
       "</style>\n",
       "<table border=\"1\" class=\"dataframe\">\n",
       "  <thead>\n",
       "    <tr style=\"text-align: right;\">\n",
       "      <th></th>\n",
       "      <th>mean</th>\n",
       "      <th>min</th>\n",
       "      <th>max</th>\n",
       "      <th>std</th>\n",
       "    </tr>\n",
       "  </thead>\n",
       "  <tbody>\n",
       "    <tr>\n",
       "      <th>price</th>\n",
       "      <td>541693.60</td>\n",
       "      <td>78000.00</td>\n",
       "      <td>7700000.00</td>\n",
       "      <td>367296.43</td>\n",
       "    </tr>\n",
       "    <tr>\n",
       "      <th>bedrooms</th>\n",
       "      <td>3.37</td>\n",
       "      <td>0.00</td>\n",
       "      <td>11.00</td>\n",
       "      <td>0.90</td>\n",
       "    </tr>\n",
       "    <tr>\n",
       "      <th>bathrooms</th>\n",
       "      <td>2.12</td>\n",
       "      <td>0.50</td>\n",
       "      <td>8.00</td>\n",
       "      <td>0.77</td>\n",
       "    </tr>\n",
       "    <tr>\n",
       "      <th>sqft_living</th>\n",
       "      <td>2082.91</td>\n",
       "      <td>370.00</td>\n",
       "      <td>13540.00</td>\n",
       "      <td>918.85</td>\n",
       "    </tr>\n",
       "    <tr>\n",
       "      <th>sqft_lot</th>\n",
       "      <td>15135.10</td>\n",
       "      <td>520.00</td>\n",
       "      <td>1651359.00</td>\n",
       "      <td>41547.34</td>\n",
       "    </tr>\n",
       "    <tr>\n",
       "      <th>floors</th>\n",
       "      <td>1.50</td>\n",
       "      <td>1.00</td>\n",
       "      <td>3.50</td>\n",
       "      <td>0.54</td>\n",
       "    </tr>\n",
       "    <tr>\n",
       "      <th>waterfront</th>\n",
       "      <td>0.01</td>\n",
       "      <td>0.00</td>\n",
       "      <td>1.00</td>\n",
       "      <td>0.09</td>\n",
       "    </tr>\n",
       "    <tr>\n",
       "      <th>view</th>\n",
       "      <td>0.24</td>\n",
       "      <td>0.00</td>\n",
       "      <td>4.00</td>\n",
       "      <td>0.77</td>\n",
       "    </tr>\n",
       "    <tr>\n",
       "      <th>condition</th>\n",
       "      <td>3.41</td>\n",
       "      <td>1.00</td>\n",
       "      <td>5.00</td>\n",
       "      <td>0.65</td>\n",
       "    </tr>\n",
       "    <tr>\n",
       "      <th>grade</th>\n",
       "      <td>7.66</td>\n",
       "      <td>3.00</td>\n",
       "      <td>13.00</td>\n",
       "      <td>1.17</td>\n",
       "    </tr>\n",
       "    <tr>\n",
       "      <th>sqft_above</th>\n",
       "      <td>1791.03</td>\n",
       "      <td>370.00</td>\n",
       "      <td>9410.00</td>\n",
       "      <td>828.70</td>\n",
       "    </tr>\n",
       "    <tr>\n",
       "      <th>sqft_basement</th>\n",
       "      <td>291.88</td>\n",
       "      <td>0.00</td>\n",
       "      <td>4820.00</td>\n",
       "      <td>442.84</td>\n",
       "    </tr>\n",
       "    <tr>\n",
       "      <th>yr_built</th>\n",
       "      <td>1971.10</td>\n",
       "      <td>1900.00</td>\n",
       "      <td>2015.00</td>\n",
       "      <td>29.39</td>\n",
       "    </tr>\n",
       "    <tr>\n",
       "      <th>yr_renovated</th>\n",
       "      <td>84.77</td>\n",
       "      <td>0.00</td>\n",
       "      <td>2015.00</td>\n",
       "      <td>402.52</td>\n",
       "    </tr>\n",
       "    <tr>\n",
       "      <th>zipcode</th>\n",
       "      <td>98077.87</td>\n",
       "      <td>98001.00</td>\n",
       "      <td>98199.00</td>\n",
       "      <td>53.47</td>\n",
       "    </tr>\n",
       "    <tr>\n",
       "      <th>lat</th>\n",
       "      <td>47.56</td>\n",
       "      <td>47.16</td>\n",
       "      <td>47.78</td>\n",
       "      <td>0.14</td>\n",
       "    </tr>\n",
       "    <tr>\n",
       "      <th>long</th>\n",
       "      <td>-122.21</td>\n",
       "      <td>-122.52</td>\n",
       "      <td>-121.31</td>\n",
       "      <td>0.14</td>\n",
       "    </tr>\n",
       "    <tr>\n",
       "      <th>sqft_living15</th>\n",
       "      <td>1988.36</td>\n",
       "      <td>399.00</td>\n",
       "      <td>6210.00</td>\n",
       "      <td>685.47</td>\n",
       "    </tr>\n",
       "    <tr>\n",
       "      <th>sqft_lot15</th>\n",
       "      <td>12783.86</td>\n",
       "      <td>651.00</td>\n",
       "      <td>871200.00</td>\n",
       "      <td>27380.23</td>\n",
       "    </tr>\n",
       "  </tbody>\n",
       "</table>\n",
       "</div>"
      ],
      "text/plain": [
       "                   mean      min        max       std\n",
       "price         541693.60 78000.00 7700000.00 367296.43\n",
       "bedrooms           3.37     0.00      11.00      0.90\n",
       "bathrooms          2.12     0.50       8.00      0.77\n",
       "sqft_living     2082.91   370.00   13540.00    918.85\n",
       "sqft_lot       15135.10   520.00 1651359.00  41547.34\n",
       "floors             1.50     1.00       3.50      0.54\n",
       "waterfront         0.01     0.00       1.00      0.09\n",
       "view               0.24     0.00       4.00      0.77\n",
       "condition          3.41     1.00       5.00      0.65\n",
       "grade              7.66     3.00      13.00      1.17\n",
       "sqft_above      1791.03   370.00    9410.00    828.70\n",
       "sqft_basement    291.88     0.00    4820.00    442.84\n",
       "yr_built        1971.10  1900.00    2015.00     29.39\n",
       "yr_renovated      84.77     0.00    2015.00    402.52\n",
       "zipcode        98077.87 98001.00   98199.00     53.47\n",
       "lat               47.56    47.16      47.78      0.14\n",
       "long            -122.21  -122.52    -121.31      0.14\n",
       "sqft_living15   1988.36   399.00    6210.00    685.47\n",
       "sqft_lot15     12783.86   651.00  871200.00  27380.23"
      ]
     },
     "execution_count": 19,
     "metadata": {},
     "output_type": "execute_result"
    }
   ],
   "source": [
    "data_static = data.describe().T\n",
    "data_static.loc[data_static.index[1: -1 ] , ['mean', 'min', 'max', 'std']]"
   ]
  },
  {
   "cell_type": "markdown",
   "metadata": {},
   "source": [
    "# Insights para o negocio\n",
    " - H1 Imóveis que possuem vista para água, são 30% mais caros, na média\n",
    " - H2: Imóveis com data de construção menor que 1955, são em média 50% mais baratos\n",
    " - H3: Imóveis sem porão possuem sqrt_lot, são 50% maiores do que com porão.\n",
    " - H4: O crescimento do preço dos imóveis YoY é de 10%.\n",
    " - H5: Imóveis com 3 banheiros tem um crescimento MoM de 15%.\n",
    " - H6: Imóveis com 2 andares são 15% mais caros do que aqueles com apenas 1 andar.\n",
    " - H7: A maioria dos imóveis (+50%) se tornaram disponíveis durante summer/spring.\n",
    " - H8: Imóveis disponíveis durante summer/spring são em média 20% mais caros.\n",
    " - H9: Imóveis que não foram renovados, são em média 40% mais baratos."
   ]
  },
  {
   "cell_type": "code",
   "execution_count": 20,
   "metadata": {
    "ExecuteTime": {
     "end_time": "2022-04-07T11:34:12.565958Z",
     "start_time": "2022-04-07T11:34:12.544757Z"
    }
   },
   "outputs": [
    {
     "name": "stdout",
     "output_type": "stream",
     "text": [
      "Hipotese verdadeira, imóveis com vista para a água são 212.0% mais caros em comparação aos imóveis que não oferecem,vista para a água\n"
     ]
    }
   ],
   "source": [
    "# H1 Imóveis que possuem vista para água, são 30% mais caros, na média em comparação aos que não tem vista para água\n",
    "\n",
    "df_waterview = data[['price', 'waterfront_status']].groupby('waterfront_status').mean().reset_index()\n",
    "\n",
    "result = round((df_waterview.loc[1, 'price'] - df_waterview.loc[0, 'price']) / df_waterview.loc[0, 'price'] * 100)\n",
    "\n",
    "print(f'Hipotese verdadeira, imóveis com vista para a água são {result}% mais caros em comparação aos imóveis que não oferecem,vista para a água')"
   ]
  },
  {
   "cell_type": "code",
   "execution_count": 21,
   "metadata": {
    "ExecuteTime": {
     "end_time": "2022-04-07T11:34:29.458330Z",
     "start_time": "2022-04-07T11:34:29.408671Z"
    }
   },
   "outputs": [
    {
     "name": "stdout",
     "output_type": "stream",
     "text": [
      "Hipotese falsa, as imóveis datados acima do ano de 1955 são apenas 1.0% mais caros do que imóveis com data de construção menores que 1955\n"
     ]
    }
   ],
   "source": [
    "# H2: Imóveis com data de construção menor que 1955, são em média 50% mais baratos\n",
    "df_construction = data[['construction', 'price']].groupby('construction').mean().reset_index()\n",
    "result = round((df_construction.loc[1, 'price'] - df_construction.loc[0, 'price']) / df_construction.loc[0, 'price'] * 100)\n",
    "\n",
    "print(f'Hipotese falsa, as imóveis datados acima do ano de 1955 são apenas {result}% mais caros do que imóveis com data de construção menores que 1955')"
   ]
  },
  {
   "cell_type": "code",
   "execution_count": 22,
   "metadata": {
    "ExecuteTime": {
     "end_time": "2022-04-07T11:34:38.755123Z",
     "start_time": "2022-04-07T11:34:38.736071Z"
    }
   },
   "outputs": [
    {
     "name": "stdout",
     "output_type": "stream",
     "text": [
      "Hipotese falsa, casas sem porão, possuem cerca de apenas 19.0% de pés quadrados a mais em comparação a casas com porão\n"
     ]
    }
   ],
   "source": [
    "# H3: Imóveis sem porão possuem sqrt_lot, são 50% maiores do que com porão.\n",
    "df_basement = data[['sqft_lot', 'basement_status']].groupby('basement_status').mean().reset_index()\n",
    "\n",
    "result_basement = round((df_basement.loc[0, 'sqft_lot'] - df_basement.loc[1, 'sqft_lot']) / df_basement.loc[0, 'sqft_lot'] * 100)\n",
    "\n",
    "print(f'Hipotese falsa, casas sem porão, possuem cerca de apenas {result_basement}% de pés quadrados a mais em comparação a casas com porão')"
   ]
  },
  {
   "cell_type": "markdown",
   "metadata": {
    "ExecuteTime": {
     "end_time": "2022-04-06T12:17:46.015930Z",
     "start_time": "2022-04-06T12:17:46.010063Z"
    }
   },
   "source": [
    "# H4: O crescimento do preço dos imóveis entre os anos de 2014 e 2015 é de 10%.\n",
    "Planejamento da solução:\n",
    "    Processo de resolução\n",
    "    - Agrupar por ano de construção\n",
    "    - Encontrar uma maneira de percorrer todos os anos e gerar os calculos de comparativo de ano após anos\n",
    "\n",
    "\n",
    "\n",
    "\n",
    "\n",
    "\n",
    "\n",
    "\n",
    "\n"
   ]
  },
  {
   "cell_type": "code",
   "execution_count": 57,
   "metadata": {
    "ExecuteTime": {
     "end_time": "2022-04-07T12:17:27.205412Z",
     "start_time": "2022-04-07T12:17:27.182281Z"
    }
   },
   "outputs": [
    {
     "name": "stdout",
     "output_type": "stream",
     "text": [
      "Hipotese false, o crescimento médio entre os anos de 2014 e 2015 foi de 0.22%.\n"
     ]
    }
   ],
   "source": [
    "data['year'] = pd.to_datetime(data['date']).dt.year\n",
    "df_yoy = data[['price', 'year']].groupby('year').mean().reset_index()\n",
    "\n",
    "result_yoy = round((df_yoy.loc[1, 'price'] - df_yoy.loc[0, 'price']) / df_yoy.loc[0, 'price'] * 100, 2)\n",
    "print(f'Hipotese false, o crescimento médio entre os anos de 2014 e 2015 foi de {result_yoy}%.')"
   ]
  },
  {
   "cell_type": "code",
   "execution_count": 60,
   "metadata": {
    "ExecuteTime": {
     "end_time": "2022-04-07T12:25:16.939265Z",
     "start_time": "2022-04-07T12:25:16.932734Z"
    }
   },
   "outputs": [
    {
     "ename": "SyntaxError",
     "evalue": "invalid syntax (2335405543.py, line 2)",
     "output_type": "error",
     "traceback": [
      "\u001b[0;36m  Input \u001b[0;32mIn [60]\u001b[0;36m\u001b[0m\n\u001b[0;31m    Processo:\u001b[0m\n\u001b[0m             ^\u001b[0m\n\u001b[0;31mSyntaxError\u001b[0m\u001b[0;31m:\u001b[0m invalid syntax\n"
     ]
    }
   ],
   "source": [
    "# H5: Imóveis com 3 banheiros tem um crescimento MoM de 15%.\n",
    "Processo:\n",
    "    - Identificar o ano e o mes\n",
    "    - pegar a média de preço por mës dos imóveis de 3 quarts\n",
    "    - Gerar um gráfico para visualização e calcular a média dos valores\n"
   ]
  },
  {
   "cell_type": "code",
   "execution_count": 92,
   "metadata": {
    "ExecuteTime": {
     "end_time": "2022-04-07T12:59:34.931535Z",
     "start_time": "2022-04-07T12:59:34.357922Z"
    }
   },
   "outputs": [
    {
     "name": "stdout",
     "output_type": "stream",
     "text": [
      "Hipotese Falsa, imóveis com 3 banheiros entre os anos de 2014 e 2015 tem um crescimento de 0.18%.\n"
     ]
    },
    {
     "data": {
      "image/png": "[encoded data removed]",
      "text/plain": [
       "<Figure size 1008x576 with 1 Axes>"
      ]
     },
     "metadata": {},
     "output_type": "display_data"
    }
   ],
   "source": [
    "data['year_month'] = pd.to_datetime(data['date']).dt.strftime('%Y-%m')\n",
    "df_bathrooms = data.loc[data['bathrooms'] == 3, ]\n",
    "\n",
    "df_bathrooms = df_bathrooms[['price', 'year_month']].groupby('year_month').mean().reset_index()\n",
    "df_bathrooms['year_month'] = pd.to_datetime(df_bathrooms['year_month'], format = '%Y-%m')\n",
    "df_bathrooms['growth_month'] = df_bathrooms['price'].pct_change() * 100\n",
    "\n",
    "result_bathrooms = round(df_bathrooms['growth_month'].mean(), 2)\n",
    "print(f'Hipotese Falsa, imóveis com 3 banheiros entre os anos de 2014 e 2015 tem um crescimento de {result_bathrooms}%.')\n",
    "\n",
    "g = sns.lineplot(x = df_bathrooms['year_month'], y = df_bathrooms['growth_month']);\n",
    "loc = matplotlib.dates.MonthLocator()\n",
    "g.xaxis.set_major_locator(loc)\n",
    "plt.show(g)"
   ]
  },
  {
   "cell_type": "code",
   "execution_count": 97,
   "metadata": {
    "ExecuteTime": {
     "end_time": "2022-04-07T13:05:40.418717Z",
     "start_time": "2022-04-07T13:05:40.407760Z"
    }
   },
   "outputs": [
    {
     "data": {
      "text/html": [
       "<div>\n",
       "<style scoped>\n",
       "    .dataframe tbody tr th:only-of-type {\n",
       "        vertical-align: middle;\n",
       "    }\n",
       "\n",
       "    .dataframe tbody tr th {\n",
       "        vertical-align: top;\n",
       "    }\n",
       "\n",
       "    .dataframe thead th {\n",
       "        text-align: right;\n",
       "    }\n",
       "</style>\n",
       "<table border=\"1\" class=\"dataframe\">\n",
       "  <thead>\n",
       "    <tr style=\"text-align: right;\">\n",
       "      <th></th>\n",
       "      <th>bedrooms</th>\n",
       "      <th>price</th>\n",
       "    </tr>\n",
       "  </thead>\n",
       "  <tbody>\n",
       "    <tr>\n",
       "      <th>0</th>\n",
       "      <td>0</td>\n",
       "      <td>280158.33</td>\n",
       "    </tr>\n",
       "    <tr>\n",
       "      <th>1</th>\n",
       "      <td>1</td>\n",
       "      <td>321832.12</td>\n",
       "    </tr>\n",
       "    <tr>\n",
       "      <th>2</th>\n",
       "      <td>2</td>\n",
       "      <td>402230.37</td>\n",
       "    </tr>\n",
       "  </tbody>\n",
       "</table>\n",
       "</div>"
      ],
      "text/plain": [
       "   bedrooms     price\n",
       "0         0 280158.33\n",
       "1         1 321832.12\n",
       "2         2 402230.37"
      ]
     },
     "execution_count": 97,
     "metadata": {},
     "output_type": "execute_result"
    }
   ],
   "source": [
    "df_bedrooms"
   ]
  },
  {
   "cell_type": "code",
   "execution_count": 114,
   "metadata": {
    "ExecuteTime": {
     "end_time": "2022-04-07T13:16:44.663551Z",
     "start_time": "2022-04-07T13:16:44.618473Z"
    }
   },
   "outputs": [
    {
     "name": "stdout",
     "output_type": "stream",
     "text": [
      "Hipotese Verdadeira, imóveis com 2 andares são cerca de 26.58% mais caros em comparação com imóveis de apenas 1 andar.\n"
     ]
    }
   ],
   "source": [
    "# H6: Imóveis com 2 andares são 15% mais caros do que aqueles com apenas 1 andar.\n",
    "df_floors = data.loc[(data['floors']  >= 1) & (data['floors'] <= 2 ), ]\n",
    "\n",
    "df_floors = df_floors[['price', 'floors']].groupby('floors').mean().reset_index()\n",
    "\n",
    "result_floors = round((df_floors.loc[1, 'price'] - df_floors.loc[0, 'price']) \n",
    "                        / df_floors.loc[0, 'price'] * 100, 2)\n",
    "\n",
    "print(f'Hipotese Verdadeira, imóveis com 2 andares são cerca de {result_floors}% mais caros em comparação \\\n",
    "com imóveis de apenas 1 andar.')"
   ]
  },
  {
   "cell_type": "code",
   "execution_count": 134,
   "metadata": {
    "ExecuteTime": {
     "end_time": "2022-04-07T13:49:15.035631Z",
     "start_time": "2022-04-07T13:49:15.022252Z"
    }
   },
   "outputs": [
    {
     "name": "stdout",
     "output_type": "stream",
     "text": [
      "Hipose verdadeira, cerca de 59.5% dos imóveis se tornaram disponíveis na época de summer/spring.\n"
     ]
    }
   ],
   "source": [
    "# H7: A maioria dos imóveis (+50%) se tornaram disponíveis durante summer/spring.\n",
    "df_summer = data.groupby('season')['id'].count()\n",
    "able_in_ss = df_summer.loc[df_summer.index.isin(['spring', 'summer']),].sum()\n",
    "\n",
    "print(f'Hipose verdadeira, cerca de {round((able_in_ss  / data.shape[0]) * 100, 2)}% dos imóveis \\\n",
    "se tornaram disponíveis na época de summer/spring.')"
   ]
  },
  {
   "cell_type": "code",
   "execution_count": null,
   "metadata": {
    "ExecuteTime": {
     "end_time": "2022-04-05T14:33:28.817039Z",
     "start_time": "2022-04-05T14:33:28.812248Z"
    }
   },
   "outputs": [],
   "source": [
    "# H8: Imóveis disponíveis durante summer/spring são em média 20% mais caros.\n"
   ]
  },
  {
   "cell_type": "code",
   "execution_count": null,
   "metadata": {
    "ExecuteTime": {
     "end_time": "2022-04-05T14:28:18.185302Z",
     "start_time": "2022-04-05T14:28:18.181127Z"
    }
   },
   "outputs": [],
   "source": [
    "# H9: Imóveis que não foram renovados, são em média 40% mais baratos.\n"
   ]
  },
  {
   "cell_type": "code",
   "execution_count": null,
   "metadata": {},
   "outputs": [],
   "source": []
  },
  {
   "cell_type": "code",
   "execution_count": null,
   "metadata": {},
   "outputs": [],
   "source": []
  },
  {
   "cell_type": "markdown",
   "metadata": {},
   "source": [
    "# Questões do negócio\n",
    " 1. Quais são os imóveis que a House Rocket deveria comprar e por qual preço?\n",
    " 2. Uma vez a casa comprada, qual o melhor momento para vendê-las e por qual preço?"
   ]
  },
  {
   "cell_type": "code",
   "execution_count": null,
   "metadata": {},
   "outputs": [],
   "source": [
    "# 1. Quais são os imóveis que a House Rocket deveria comprar e por qual preço?"
   ]
  },
  {
   "cell_type": "code",
   "execution_count": null,
   "metadata": {},
   "outputs": [],
   "source": []
  },
  {
   "cell_type": "code",
   "execution_count": null,
   "metadata": {},
   "outputs": [],
   "source": []
  },
  {
   "cell_type": "code",
   "execution_count": null,
   "metadata": {},
   "outputs": [],
   "source": []
  },
  {
   "cell_type": "code",
   "execution_count": null,
   "metadata": {},
   "outputs": [],
   "source": []
  },
  {
   "cell_type": "code",
   "execution_count": null,
   "metadata": {},
   "outputs": [],
   "source": []
  },
  {
   "cell_type": "code",
   "execution_count": null,
   "metadata": {},
   "outputs": [],
   "source": []
  },
  {
   "cell_type": "code",
   "execution_count": null,
   "metadata": {},
   "outputs": [],
   "source": [
    "# 2. Uma vez a casa comprada, qual o melhor momento para vendê-las e por qual preço?"
   ]
  },
  {
   "cell_type": "code",
   "execution_count": null,
   "metadata": {},
   "outputs": [],
   "source": []
  },
  {
   "cell_type": "code",
   "execution_count": null,
   "metadata": {},
   "outputs": [],
   "source": []
  },
  {
   "cell_type": "code",
   "execution_count": null,
   "metadata": {},
   "outputs": [],
   "source": []
  },
  {
   "cell_type": "code",
   "execution_count": null,
   "metadata": {},
   "outputs": [],
   "source": []
  },
  {
   "cell_type": "code",
   "execution_count": null,
   "metadata": {},
   "outputs": [],
   "source": []
  },
  {
   "cell_type": "code",
   "execution_count": null,
   "metadata": {},
   "outputs": [],
   "source": []
  },
  {
   "cell_type": "code",
   "execution_count": null,
   "metadata": {},
   "outputs": [],
   "source": []
  },
  {
   "cell_type": "code",
   "execution_count": null,
   "metadata": {},
   "outputs": [],
   "source": []
  },
  {
   "cell_type": "code",
   "execution_count": null,
   "metadata": {},
   "outputs": [],
   "source": []
  },
  {
   "cell_type": "markdown",
   "metadata": {},
   "source": [
    "# Resultados financeiros para o negócio"
   ]
  },
  {
   "cell_type": "markdown",
   "metadata": {},
   "source": [
    "# Conclusão"
   ]
  },
  {
   "cell_type": "markdown",
   "metadata": {},
   "source": [
    "# Próximo Passo"
   ]
  },
  {
   "cell_type": "markdown",
   "metadata": {},
   "source": []
  },
  {
   "cell_type": "markdown",
   "metadata": {},
   "source": []
  }
 ],
 "metadata": {
  "hide_input": false,
  "kernelspec": {
   "display_name": "ProjectHouseRocket",
   "language": "python",
   "name": "projecthouserocket"
  },
  "language_info": {
   "codemirror_mode": {
    "name": "ipython",
    "version": 3
   },
   "file_extension": ".py",
   "mimetype": "text/x-python",
   "name": "python",
   "nbconvert_exporter": "python",
   "pygments_lexer": "ipython3",
   "version": "3.8.10"
  },
  "toc": {
   "base_numbering": 1,
   "nav_menu": {},
   "number_sections": false,
   "sideBar": true,
   "skip_h1_title": false,
   "title_cell": "Table of Contents",
   "title_sidebar": "Contents",
   "toc_cell": false,
   "toc_position": {},
   "toc_section_display": true,
   "toc_window_display": false
  }
 },
 "nbformat": 4,
 "nbformat_minor": 4
}
